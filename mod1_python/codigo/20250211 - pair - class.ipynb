{
 "cells": [
  {
   "cell_type": "markdown",
   "metadata": {},
   "source": [
    "En este ejercicio de pair programming, vamos a crear una clase para gestionar la información de los empleados de nuestra empresa. \n",
    "Siguiendo las indicaciones del jefe, necesitamos organizar los datos de cada empleado de manera más estructurada.\n",
    "\n",
    "La clase Empleados permite gestionar información relacionada con los empleados de una empresa, con las siguientes características:\n",
    "\n",
    "1 - Debes crear una clase llamada \"Empleados\" que tenga los siguientes atributos: nombre, apellidos, edad, posicion, año , vacaciones(cantidad de días de vacaciones que le quedan al empleado) y herramientas.\n",
    "\n",
    "2 - El constructor __init__ debe recibir estos atributos como parámetros y asignarlos a los respectivos atributos de la clase.\n",
    "3 - Los atributos representan la información personal y profesional de un empleado, como su nombre completo, edad, posición en la empresa, año de ingreso, días de vacaciones disponibles y una lista de herramientas que el empleado sabe utilizar.\n"
   ]
  },
  {
   "cell_type": "code",
   "execution_count": null,
   "metadata": {},
   "outputs": [],
   "source": [
    "class Empleados:\n",
    "   def __init__ (self, nombre, apellidos, edad, posicion, ano , vacaciones, herramientas):\n",
    "    self.nombre = nombre\n",
    "    self.apellidos = apellidos\n",
    "    self.edad = edad\n",
    "    self.posicion= posicion\n",
    "    self.ano = ano\n",
    "    self.vacaciones = vacaciones\n",
    "    self.herramientas = herramientas\n",
    "\n"
   ]
  },
  {
   "cell_type": "markdown",
   "metadata": {},
   "source": [
    "Los métodos que debe recibir esta clase son:\n",
    "\n",
    "Método descripcion: Proporciona una descripción del empleado, incluyendo su nombre, posición en la empresa, y la cantidad de días de vacaciones que le quedan para el año actual. Los pasos para resolver el ejercicio del método descripcion son:\n",
    "\n",
    "Utilizar F-Strings: Utiliza f-strings para construir la descripción del empleado de manera legible y eficiente.\n",
    "\n",
    "Especificar los Atributos a Incluir: Determina cuáles de los atributos del empleado se deben incluir en la descripción. Los atributos necesarios son nombre, posicion, año, y vacaciones.\n",
    "\n",
    "Concatenar los Atributos: Usar f-strings para concatenar los atributos seleccionados y crear una descripción coherente."
   ]
  },
  {
   "cell_type": "code",
   "execution_count": null,
   "metadata": {},
   "outputs": [
    {
     "name": "stdout",
     "output_type": "stream",
     "text": [
      "su nombre cibi, su posicion  no la se, y tene 30 vacaciones pendientes\n"
     ]
    }
   ],
   "source": [
    "class Empleados:\n",
    "    def __init__ (self, nombre, apellidos, edad, posicion, ano , vacaciones, herramientas):\n",
    "        self.nombre = nombre\n",
    "        self.apellidos = apellidos\n",
    "        self.edad = edad\n",
    "        self.posicion= posicion\n",
    "        self.ano = ano\n",
    "        self.vacaciones = vacaciones\n",
    "        self.herramientas = herramientas\n",
    "\n",
    "\n",
    "    def descripcion (self):\n",
    "        return print(f'su nombre {self.nombre}, su posicion {self.posicion}, y tene {self.vacaciones} vacaciones pendientes')\n",
    "    \n",
    "    def cambiando_posicion (self):\n",
    "        if \"python\" in self.herramientas:\n",
    "            return print(\"Bien que tienes, seguimos!\")\n",
    "        elif \"excel\" in self.herramientas:\n",
    "            return print(\"Deje de usar Excel y aprenda Python\")\n",
    "        else: (\"Descargue y aprenda Python\")\n",
    "\n",
    "        \n",
    "            \n",
    "\n",
    "\n",
    "\n",
    "\n",
    "\n",
    "cibi = Empleados('cibi','busnello',34, ' no la se', '2020', 30, 'python')\n",
    "cibi.descripcion() #llama un metodo\n",
    "cibi.ano #llama un atributo - sin parenteses]\n",
    "cibi.cambiando_posicion()\n",
    "\n"
   ]
  }
 ],
 "metadata": {
  "kernelspec": {
   "display_name": "base",
   "language": "python",
   "name": "python3"
  },
  "language_info": {
   "codemirror_mode": {
    "name": "ipython",
    "version": 3
   },
   "file_extension": ".py",
   "mimetype": "text/x-python",
   "name": "python",
   "nbconvert_exporter": "python",
   "pygments_lexer": "ipython3",
   "version": "3.12.7"
  }
 },
 "nbformat": 4,
 "nbformat_minor": 2
}
