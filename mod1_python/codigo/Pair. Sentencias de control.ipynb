{
 "cells": [
  {
   "cell_type": "markdown",
   "metadata": {},
   "source": [
    "Verificar si un num es +, - o 0"
   ]
  },
  {
   "cell_type": "code",
   "execution_count": 2,
   "metadata": {},
   "outputs": [
    {
     "name": "stdout",
     "output_type": "stream",
     "text": [
      "Cero\n"
     ]
    }
   ],
   "source": [
    "num = 0\n",
    "\n",
    "if num > 0:\n",
    "    print(\"Positivo\")\n",
    "elif num < 0:\n",
    "    print (\"Negativo\")\n",
    "else:\n",
    "    print (\"Cero\")\n"
   ]
  },
  {
   "cell_type": "markdown",
   "metadata": {},
   "source": [
    "Verificar si un número es par o impar"
   ]
  },
  {
   "cell_type": "code",
   "execution_count": 5,
   "metadata": {},
   "outputs": [
    {
     "name": "stdout",
     "output_type": "stream",
     "text": [
      "El número es impar\n"
     ]
    }
   ],
   "source": [
    "num = 3\n",
    "\n",
    "if num%2 == 0:\n",
    "    print (\"El número es par\")\n",
    "else:\n",
    "    print (\"El número es impar\")\n",
    "\n",
    "# Definir número par: % resto = 0"
   ]
  },
  {
   "cell_type": "markdown",
   "metadata": {},
   "source": [
    "Verificar si un estudiante aprobó o suspendió un examen. Si la calificación es mayor o igual que 60 se considera aprobado"
   ]
  },
  {
   "cell_type": "code",
   "execution_count": 7,
   "metadata": {},
   "outputs": [
    {
     "name": "stdout",
     "output_type": "stream",
     "text": [
      "Tu examen ha sido suspendido\n"
     ]
    }
   ],
   "source": [
    "nota = 30\n",
    "\n",
    "if nota>= 60:\n",
    "    print (\"Tu examen ha sido aprobado\")\n",
    "\n",
    "else:\n",
    "    print (\"Tu examen ha sido suspendido\")"
   ]
  },
  {
   "cell_type": "markdown",
   "metadata": {},
   "source": [
    "Calcular el máximo entre dos números. "
   ]
  },
  {
   "cell_type": "code",
   "execution_count": 9,
   "metadata": {},
   "outputs": [
    {
     "name": "stdout",
     "output_type": "stream",
     "text": [
      "El número máximoes: 40\n"
     ]
    }
   ],
   "source": [
    "num1 = 30\n",
    "num2 = 40\n",
    "\n",
    "if num1>num2:\n",
    "    print (\"El número máximo es:\", num1)\n",
    "\n",
    "else:\n",
    "    print (\"El número máximoes:\", num2)"
   ]
  },
  {
   "cell_type": "markdown",
   "metadata": {},
   "source": [
    "Verificar si una letra es una vocal o una consonante"
   ]
  },
  {
   "cell_type": "code",
   "execution_count": 50,
   "metadata": {},
   "outputs": [
    {
     "name": "stdout",
     "output_type": "stream",
     "text": [
      "Tu letra es una vocal\n"
     ]
    }
   ],
   "source": [
    "lista_vocal= [\"a\", \"e\", \"i\", \"o\", \"u\"]\n",
    "letra = input (\"Elige una letra, escríbela en minúscula\")\n",
    "\n",
    "if letra.lower () in lista_vocal:\n",
    "    print (\"Tu letra es una vocal\")\n",
    "\n",
    "else:\n",
    "    print (\"Tu letra es una consonante\")"
   ]
  },
  {
   "cell_type": "markdown",
   "metadata": {},
   "source": [
    "Calcular el descuento en una compra según el monto total"
   ]
  },
  {
   "cell_type": "code",
   "execution_count": 16,
   "metadata": {},
   "outputs": [
    {
     "name": "stdout",
     "output_type": "stream",
     "text": [
      "No tienes descuento: 60 €\n"
     ]
    }
   ],
   "source": [
    "# Valor total de la compra es mayor que 100 = 10%\n",
    "\n",
    "valor_compra = 60\n",
    "\n",
    "if valor_compra >= 100:\n",
    "    print(valor_compra - (valor_compra*0.1))\n",
    "\n",
    "else:\n",
    "    print (\"No tienes descuento:\", valor_compra, \"€\")\n"
   ]
  },
  {
   "cell_type": "markdown",
   "metadata": {},
   "source": [
    "Verificar si un año es bisiesto o no. Un año bisiesto es divisible por 4, \n",
    "\n",
    "excpeto aquellos que son divisibles por 100, pero no entre 400"
   ]
  },
  {
   "cell_type": "code",
   "execution_count": 38,
   "metadata": {},
   "outputs": [
    {
     "name": "stdout",
     "output_type": "stream",
     "text": [
      "El año es bisiesto\n"
     ]
    }
   ],
   "source": [
    "año = 2004\n",
    "año_bisiesto = año/4\n",
    "\n",
    "if año == 400:\n",
    "    print (\"El año es bisiesto\")\n",
    "\n",
    "\n",
    "elif año%100 == 0:\n",
    "    print (\"El año no es bisiesto\")\n",
    "\n",
    "\n",
    "elif año%4 == 0:\n",
    "    print (\"El año es bisiesto\")\n",
    "\n",
    "else:\n",
    "    print (\"El año no es bisiesto\")\n",
    "    "
   ]
  },
  {
   "cell_type": "markdown",
   "metadata": {},
   "source": [
    "Si edad es menor de 18\n",
    "18-64 = adulto\n",
    "+64 = adulto mayor"
   ]
  },
  {
   "cell_type": "code",
   "execution_count": 41,
   "metadata": {},
   "outputs": [
    {
     "name": "stdout",
     "output_type": "stream",
     "text": [
      "Eres adulto mayor\n"
     ]
    }
   ],
   "source": [
    "edad = 80\n",
    "\n",
    "if edad>=18 and edad<=64:\n",
    "    print (\"Adulto\")\n",
    "\n",
    "elif edad < 18:\n",
    "    print ('Menor de edad')\n",
    "\n",
    "else:\n",
    "    print (\"Eres adulto mayor\")\n",
    "    "
   ]
  },
  {
   "cell_type": "markdown",
   "metadata": {},
   "source": [
    "Verificar si 3 números forman un triángulo rectángulo si se cumple el teorema de pitágoras"
   ]
  },
  {
   "cell_type": "code",
   "execution_count": 48,
   "metadata": {},
   "outputs": [
    {
     "ename": "NameError",
     "evalue": "name 'sqrt' is not defined",
     "output_type": "error",
     "traceback": [
      "\u001b[0;31m---------------------------------------------------------------------------\u001b[0m",
      "\u001b[0;31mNameError\u001b[0m                                 Traceback (most recent call last)",
      "Cell \u001b[0;32mIn[48], line 5\u001b[0m\n\u001b[1;32m      2\u001b[0m altura \u001b[38;5;241m=\u001b[39m \u001b[38;5;241m10\u001b[39m\n\u001b[1;32m      4\u001b[0m \u001b[38;5;66;03m# Raíz cuadrada (altura al cuadrado + base al cuadrado)\u001b[39;00m\n\u001b[0;32m----> 5\u001b[0m \u001b[38;5;28mprint\u001b[39m (sqrt(altura\u001b[38;5;241m*\u001b[39m\u001b[38;5;241m*\u001b[39m\u001b[38;5;241m2\u001b[39m)\u001b[38;5;241m+\u001b[39m(base\u001b[38;5;241m*\u001b[39m\u001b[38;5;241m*\u001b[39m\u001b[38;5;241m2\u001b[39m))\n",
      "\u001b[0;31mNameError\u001b[0m: name 'sqrt' is not defined"
     ]
    }
   ],
   "source": [
    "base = 5\n",
    "altura = 10\n",
    "\n",
    "# Raíz cuadrada (altura al cuadrado + base al cuadrado)\n",
    "print (sqrt(altura**2)+(base**2))\n",
    "\n",
    "\n"
   ]
  },
  {
   "cell_type": "markdown",
   "metadata": {},
   "source": [
    "10. Asignar una calificación a una puntuación\n",
    "\n",
    "    Descripción: Dada una puntuación, asigna una calificación según las siguientes condiciones: si la puntuación es mayor o igual a 90, la calificación es \"A\"; si es mayor o igual a 80, la calificación es \"B\"; si es mayor o igual a 70, la calificación es \"C\"; si es mayor o igual a 60, la calificación es \"D\"; de lo contrario, la calificación es \"F\"."
   ]
  },
  {
   "cell_type": "markdown",
   "metadata": {},
   "source": [
    "11. Calcular el índice de masa corporal (IMC) y categorizarlo\n",
    "\n",
    "    Descripción: Dados el peso (en kg) y la altura (en metros) de una persona, calcula su IMC y categorízalo según las siguientes condiciones: si el IMC es menor a 18.5, es \"Bajo peso\"; si está entre 18.5 y 24.9 (inclusive), es \"Peso normal\"; si está entre 25 y 29.9 (inclusive), es \"Sobrepeso\"; de lo contrario, es \"Obesidad\"."
   ]
  },
  {
   "cell_type": "markdown",
   "metadata": {},
   "source": [
    "12. Calcular el mayor de tres números\n",
    "\n",
    "    Descripción: Dados tres números, encuentra el mayor entre ellos"
   ]
  },
  {
   "cell_type": "markdown",
   "metadata": {},
   "source": [
    "BONUS sentencias de control: Verificar la validez de una fecha\n",
    "\n",
    "    Descripción: Dados el día, el mes y el año de una fecha, verifica si la fecha es válida."
   ]
  },
  {
   "cell_type": "markdown",
   "metadata": {},
   "source": [
    "Ejercicios while\n",
    "\n",
    "    Calcular la suma de los primeros 10 números naturales utilizando un bucle while\n",
    "\n",
    "        Descripción: Utiliza un bucle while para calcular la suma de los primeros 10 números naturales (1 + 2 + 3 + ... + 10).\n",
    "\n",
    "    Juego de adivinanza utilizando un bucle while\n",
    "\n",
    "        Descripción: Crea un juego de adivinanza en el que el jugador tiene que adivinar un número secreto (tendrá que ser entre el 0 y el 10). Utiliza un bucle while para permitir múltiples intentos hasta que el jugador adivine correctamente."
   ]
  }
 ],
 "metadata": {
  "kernelspec": {
   "display_name": "base",
   "language": "python",
   "name": "python3"
  },
  "language_info": {
   "codemirror_mode": {
    "name": "ipython",
    "version": 3
   },
   "file_extension": ".py",
   "mimetype": "text/x-python",
   "name": "python",
   "nbconvert_exporter": "python",
   "pygments_lexer": "ipython3",
   "version": "3.12.7"
  }
 },
 "nbformat": 4,
 "nbformat_minor": 2
}
