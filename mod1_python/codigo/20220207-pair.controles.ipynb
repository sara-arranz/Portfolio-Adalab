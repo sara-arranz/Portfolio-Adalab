{
 "cells": [
  {
   "cell_type": "code",
   "execution_count": 1,
   "metadata": {},
   "outputs": [
    {
     "name": "stdout",
     "output_type": "stream",
     "text": [
      "1\n",
      "2\n",
      "3\n",
      "4\n",
      "5\n"
     ]
    }
   ],
   "source": [
    "#1 Imprimir los números del 1 al 5 utilizando un bucle for\n",
    "# Descripción: Utiliza un bucle for para imprimir los números del 1 al 5 (incluido)\n",
    "# en orden ascendente.\n",
    "\n",
    "for num in range(1,6):\n",
    "    print(num)"
   ]
  },
  {
   "cell_type": "code",
   "execution_count": 13,
   "metadata": {},
   "outputs": [
    {
     "name": "stdout",
     "output_type": "stream",
     "text": [
      "------------\n",
      "[0, 1, 3, 6, 10, 15, 21, 28, 36, 45]\n"
     ]
    }
   ],
   "source": [
    "# Calcular la suma de los primeros 10 números naturales utilizando un bucle for\n",
    "# Descripción: Utiliza un bucle for para calcular la suma de los\n",
    "#  primeros 10 números naturales (1 + 2 + 3 + ... + 10).\n",
    "listasuma=[]\n",
    "suma=0 \n",
    "\n",
    "print('------------')\n",
    "\n",
    "for num in range(10):\n",
    "   suma+=num\n",
    "   listasuma.append(suma)\n",
    "print(listasuma)"
   ]
  },
  {
   "cell_type": "code",
   "execution_count": 15,
   "metadata": {},
   "outputs": [
    {
     "name": "stdout",
     "output_type": "stream",
     "text": [
      "280\n",
      "280\n"
     ]
    }
   ],
   "source": [
    "# Calcular el producto de los elementos de una lista\n",
    "# Descripción: Dada una lista de números, utiliza un bucle \n",
    "# for para calcular el producto de todos los elementos.\n",
    "\n",
    "#produto = num1 * num2\n",
    "\n",
    "numeros = [1,7,8,5]\n",
    "produto = 1\n",
    "\n",
    "for num in numeros:\n",
    "    produto*=num\n",
    "print(produto)"
   ]
  },
  {
   "cell_type": "code",
   "execution_count": 17,
   "metadata": {},
   "outputs": [
    {
     "name": "stdout",
     "output_type": "stream",
     "text": [
      "e\n",
      "s\n",
      "t\n",
      "a\n",
      " \n",
      "e\n",
      "s\n",
      " \n",
      "n\n",
      "u\n",
      "e\n",
      "s\n",
      "t\n",
      "r\n",
      "a\n",
      " \n",
      "c\n",
      "a\n",
      "d\n",
      "e\n",
      "n\n",
      "a\n"
     ]
    }
   ],
   "source": [
    "#  4 Imprimir los caracteres de una cadena de texto\n",
    "#Descripción: Dada una cadena de texto, utiliza un bucle for para imprimir \n",
    "# cada carácter en una línea separada.\n",
    "\n",
    "cadena = 'esta es nuestra cadena'\n",
    "\n",
    "for letra in cadena:\n",
    "    print(letra)"
   ]
  },
  {
   "cell_type": "code",
   "execution_count": 24,
   "metadata": {},
   "outputs": [
    {
     "name": "stdout",
     "output_type": "stream",
     "text": [
      "[100, 98, 96, 94, 92, 90, 88, 86, 84, 82, 80, 78, 76, 74, 72, 70, 68, 66, 64, 62, 60, 58, 56, 54, 52, 50, 48, 46, 44, 42, 40, 38, 36, 34, 32, 30, 28, 26, 24, 22, 20, 18, 16, 14, 12, 10, 8, 6, 4, 2]\n"
     ]
    }
   ],
   "source": [
    "#5 Imprimir los números pares del 1 al 100 utilizando un bucle for\n",
    "# Descripción: Utiliza un bucle for para imprimir los números \n",
    "# pares del 1 al 100 en orden ascendente.\n",
    "rares=[]\n",
    "for num in range(1,101):\n",
    "    if num % 2 == 0:\n",
    "        rares.append(num)\n",
    "rares.sort(reverse=True)\n",
    "print(rares)\n",
    "\n"
   ]
  },
  {
   "cell_type": "code",
   "execution_count": 36,
   "metadata": {},
   "outputs": [
    {
     "name": "stdout",
     "output_type": "stream",
     "text": [
      "[1, 2, 3, 4, 5, 6, 7, 8, 9, 10, 11, 12, 13, 14, 15, 16, 17, 18, 19, 20, 21, 22, 23, 24, 25, 26, 27, 28, 29, 30, 31, 32, 33, 34, 35, 36, 37, 38, 39, 40, 41, 42, 43, 44, 45, 46, 47, 48, 49, 50]\n"
     ]
    }
   ],
   "source": [
    "#6  Imprimir los números primos del 1 al 50 utilizando un bucle for\n",
    "# Descripción: Utiliza un bucle for para imprimir los números primos del 1 al 50 en orden ascendente.\n",
    "# NOTA: Según la Wikipedia, un número primo es un número natural mayor que 1\n",
    "#  que no tiene divisores positivos más que 1 y él mismo.\n",
    "lista2=[]\n",
    "for num in range(1,51):\n",
    "   if num%num == 1:\n",
    "    lista2.append(num)\n",
    "print(lista2)\n",
    "\n"
   ]
  },
  {
   "cell_type": "code",
   "execution_count": null,
   "metadata": {},
   "outputs": [],
   "source": [
    "#Calcular el factorial de un número utilizando un bucle for\n",
    "# Descripción: Dado un número entero positivo, calcula su factorial utilizando un bucle for."
   ]
  },
  {
   "cell_type": "code",
   "execution_count": 91,
   "metadata": {},
   "outputs": [
    {
     "ename": "SyntaxError",
     "evalue": "unterminated f-string literal (detected at line 17) (4194287141.py, line 17)",
     "output_type": "error",
     "traceback": [
      "\u001b[1;36m  Cell \u001b[1;32mIn[91], line 17\u001b[1;36m\u001b[0m\n\u001b[1;33m    otra= input(f'reintenta, anade otra palabra. Pista1:{pistas[1]})\u001b[0m\n\u001b[1;37m                ^\u001b[0m\n\u001b[1;31mSyntaxError\u001b[0m\u001b[1;31m:\u001b[0m unterminated f-string literal (detected at line 17)\n"
     ]
    }
   ],
   "source": [
    "# Juego de adivinar palabras utilizando un bucle for Descripción: \n",
    "# Crea un juego en el que el jugador debe adivinar una palabra secreta. \n",
    "# El jugador tiene un número limitado de intentos y se le proporcionan pistas después \n",
    "# de cada intento. Utiliza un bucle for para controlar los intentos del jugador. \n",
    "\n",
    "palavrasecreta = \"python\"\n",
    "palavradada = str(input('una palabra'))\n",
    "intentos_maximos= 3\n",
    "\n",
    "\n",
    "pistas = {1:'programaccion', 2: 'software' ,3: 'data'}\n",
    "for intento in range(1, intentos_maximos + 1):\n",
    "    if palavradada == palavrasecreta:\n",
    "        print('ok')\n",
    "        break\n",
    "    else: print(f'tentativa 1: no conseguiste, pista :{pistas[ 1])\n",
    "    otra= input(f'reintenta, anade otra palabra. Pista1:{pistas[ 1]})\n",
    "\n",
    "   \n",
    "    if otra == palavrasecreta:\n",
    "        print('ok')\n",
    "        break\n",
    "    else: print('reintenta, anade otra palabra. Pista1: software programmacion')\n",
    "\n",
    "    "
   ]
  },
  {
   "cell_type": "code",
   "execution_count": null,
   "metadata": {},
   "outputs": [],
   "source": [
    "for xx in palavradada:\n",
    "    if palavrasecreta == palavradada:\n",
    "        print('ok')\n",
    "    else: print('no')"
   ]
  }
 ],
 "metadata": {
  "kernelspec": {
   "display_name": "base",
   "language": "python",
   "name": "python3"
  },
  "language_info": {
   "codemirror_mode": {
    "name": "ipython",
    "version": 3
   },
   "file_extension": ".py",
   "mimetype": "text/x-python",
   "name": "python",
   "nbconvert_exporter": "python",
   "pygments_lexer": "ipython3",
   "version": "3.12.7"
  }
 },
 "nbformat": 4,
 "nbformat_minor": 2
}
