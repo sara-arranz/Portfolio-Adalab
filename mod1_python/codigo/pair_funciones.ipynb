{
 "cells": [
  {
   "cell_type": "markdown",
   "metadata": {},
   "source": [
    "Calcular el área de un círculo.\n",
    "\n",
    "        Descripción: Crea una función llamada calcular_area_circulo que tome el radio como parámetro y devuelva el área del círculo.\n",
    "\n",
    "\n",
    "El área de un círculo con radio r > 0 es \n",
    "\n",
    "El perímetro de un círculo con radio r > 0 es\n",
    "\n",
    "π = 3,14.\n"
   ]
  },
  {
   "cell_type": "code",
   "execution_count": 3,
   "metadata": {},
   "outputs": [
    {
     "data": {
      "text/plain": [
       "10.99"
      ]
     },
     "execution_count": 3,
     "metadata": {},
     "output_type": "execute_result"
    }
   ],
   "source": [
    "def area_circulo (radio, pi = 3.14):\n",
    "\n",
    "    if radio>0:\n",
    "\n",
    "        return (radio *pi) /2\n",
    "\n",
    "area_circulo (7)"
   ]
  },
  {
   "cell_type": "markdown",
   "metadata": {},
   "source": [
    " Contar la cantidad de caracteres en una cadena.\n",
    "\n",
    "        Descripción: Crea una función llamada contar_caracteres que tome una cadena como parámetro y devuelva la cantidad de caracteres que contiene.\n"
   ]
  },
  {
   "cell_type": "markdown",
   "metadata": {},
   "source": [
    "DATOS:\n",
    "- contar_caracteres\n",
    "- parámetro = cadena\n",
    "- return = len (cadena)\n"
   ]
  },
  {
   "cell_type": "code",
   "execution_count": 5,
   "metadata": {},
   "outputs": [
    {
     "data": {
      "text/plain": [
       "16"
      ]
     },
     "execution_count": 5,
     "metadata": {},
     "output_type": "execute_result"
    }
   ],
   "source": [
    "def contar_caracteres (cadena):\n",
    "    return len(cadena)\n",
    "\n",
    "contar_caracteres (\"Cibi no desistas\")"
   ]
  },
  {
   "cell_type": "markdown",
   "metadata": {},
   "source": [
    "Determinar si una cadena es un palíndromo.\n",
    "\n",
    "        Descripción: Crea una función llamada es_palindromo que tome una cadena como parámetro y devuelva True si es un palíndromo, o False si no lo es.\n",
    "\n",
    "Palabra o frase cuyas letras están dispuestas de tal manera que resulta la misma leída de izquierda a derecha que de derecha a izquierda; p. ej., anilina"
   ]
  },
  {
   "cell_type": "markdown",
   "metadata": {},
   "source": [
    "DATOS:\n",
    "- Funcion = es_palindromo\n",
    "- Parámetro = palabra\n",
    "- Bolleano = True o False\n",
    "- Palíndrmo = reverse"
   ]
  },
  {
   "cell_type": "code",
   "execution_count": 10,
   "metadata": {},
   "outputs": [
    {
     "name": "stdout",
     "output_type": "stream",
     "text": [
      "Tu palabra es palindromo\n"
     ]
    }
   ],
   "source": [
    "def es_palindromo (palabra):\n",
    "    \n",
    "    if palabra [::-1] == palabra:\n",
    "    \n",
    "        return print (\"Tu palabra es palindromo\")\n",
    "    \n",
    "\n",
    "    else:\n",
    "        return print (\"Tu palabra no es polindromo\")\n",
    "    \n",
    "es_palindromo (\"anilina\")"
   ]
  },
  {
   "cell_type": "markdown",
   "metadata": {},
   "source": [
    " Calcular el promedio de una lista de números.\n",
    "\n",
    "        Descripción: Crea una función llamada calcular_promedio que tome una lista de números como parámetro y devuelva el promedio de todos sus elementos.\n"
   ]
  },
  {
   "cell_type": "markdown",
   "metadata": {},
   "source": [
    "DATOS:\n",
    " funcion = calcular_promedio\n",
    " parámetro = lista de numeros\n",
    " return = promedio de los numeros"
   ]
  },
  {
   "cell_type": "code",
   "execution_count": null,
   "metadata": {},
   "outputs": [
    {
     "data": {
      "text/plain": [
       "59.0"
      ]
     },
     "execution_count": 14,
     "metadata": {},
     "output_type": "execute_result"
    }
   ],
   "source": [
    "def calcular_promedio (lista_numeros):\n",
    "    \n",
    "    return sum (lista_numeros)/len (lista_numeros)\n",
    "\n",
    "calcular_promedio ([45,89,90,12])"
   ]
  },
  {
   "cell_type": "markdown",
   "metadata": {},
   "source": [
    "Calcular el interés compuesto.\n",
    "\n",
    "Descripción: Crea una función llamada calcular_interes_compuesto que tome el capital inicial, la tasa de interés y el número de períodos como parámetros y devuelva el beneficio final después del interés compuesto.\n",
    "\n",
    "A=P×(1+nr​)**n×t\n",
    "\n",
    "A es el monto final (capital inicial más el interés compuesto).\n",
    "\n",
    "P es el capital inicial.\n",
    "\n",
    "r es la tasa de interés anual (en forma decimal, por ejemplo, 5% se escribiría como 0.05).\n",
    "\n",
    "n es el número de períodos de interés compuesto por año.\n",
    "\n",
    "t es el tiempo en años.\n"
   ]
  },
  {
   "cell_type": "code",
   "execution_count": 7,
   "metadata": {},
   "outputs": [
    {
     "name": "stdout",
     "output_type": "stream",
     "text": [
      "El beneficio final es: 283.3586785035118\n"
     ]
    }
   ],
   "source": [
    "def calcular_interes_compuesto(capital_inicial, tasa_interes, periodos, tiempo):\n",
    "    # Aplicamos la fórmula del interés compuesto\n",
    "    monto_final = capital_inicial * (1 + tasa_interes / periodos) ** (periodos * tiempo)\n",
    "    \n",
    "    # El beneficio es el monto final menos el capital inicial\n",
    "    beneficio = monto_final - capital_inicial\n",
    "    \n",
    "    return beneficio\n",
    "\n",
    "# Ejemplo de uso\n",
    "capital_inicial = 1000  # Capital inicial\n",
    "tasa_interes = 0.05     # Tasa de interés del 5%\n",
    "periodos = 12           # Compuesto mensual\n",
    "tiempo = 5              # 5 años\n",
    "\n",
    "beneficio = calcular_interes_compuesto(capital_inicial, tasa_interes, periodos, tiempo)\n",
    "print(f\"El beneficio final es: {beneficio}\")"
   ]
  },
  {
   "cell_type": "markdown",
   "metadata": {},
   "source": [
    "Validar si una palabra es un anagrama de otra.\n",
    "\n",
    "        Descripción: Crea una función llamada es_anagrama que tome dos palabras como parámetros y devuelva True si una es un anagrama de la otra, o False si no lo es.\n",
    "\n",
    "Cambio en el orden de las letras de una palabra o frase que da lugar a otra palabra o frase distinta.\n",
    "\n",
    "Palabra o frase resultante de un anagrama o cambio en el orden de las letras, como de amor, Roma, o viceversa."
   ]
  },
  {
   "cell_type": "code",
   "execution_count": 6,
   "metadata": {},
   "outputs": [
    {
     "data": {
      "text/plain": [
       "False"
      ]
     },
     "execution_count": 6,
     "metadata": {},
     "output_type": "execute_result"
    }
   ],
   "source": [
    "def es_anagrama (palabra1, palabra2):\n",
    "    \n",
    "    return palabra1 [::-1] == palabra2\n",
    "    \n",
    "es_anagrama (\"casa\", \"roma\")"
   ]
  },
  {
   "cell_type": "markdown",
   "metadata": {},
   "source": [
    "Validar si una cadena de texto es un isograma.\n",
    "\n",
    "        Descripción: Crea una función llamada es_isograma que tome una cadena de texto como parámetro y devuelva True si es un isograma. En caso contrario, devuelve False.\n",
    "\n",
    "        ¿Qué es un isograma? Una palabra que no contiene letras repetidas."
   ]
  },
  {
   "cell_type": "code",
   "execution_count": 14,
   "metadata": {},
   "outputs": [
    {
     "data": {
      "text/plain": [
       "True"
      ]
     },
     "execution_count": 14,
     "metadata": {},
     "output_type": "execute_result"
    }
   ],
   "source": [
    "def es_isograma (palabra):\n",
    "    \n",
    "    palabra.split ()\n",
    "    \n",
    "    for l in palabra:\n",
    "        \n",
    "        if palabra.count(l) > 1:\n",
    "            \n",
    "            return True\n",
    "        \n",
    "es_isograma (\"cebolla\")\n"
   ]
  },
  {
   "cell_type": "markdown",
   "metadata": {},
   "source": [
    "Concatenar múltiples cadenas de texto\n",
    "\n",
    "        Descripción: Crea una función llamada concatenar_cadenas que tome una cantidad variable de cadenas de texto como argumentos y devuelva una única cadena que contenga la concatenación de todas las cadenas ingresadas."
   ]
  },
  {
   "cell_type": "code",
   "execution_count": null,
   "metadata": {},
   "outputs": [],
   "source": []
  },
  {
   "cell_type": "markdown",
   "metadata": {},
   "source": [
    "Crear un diccionario con información de una persona.\n",
    "\n",
    "        Descripción: Crea una función llamada crear_persona que tome como argumentos clave-valor los datos de una persona, como nombre, edad, ciudad, etc., y devuelva un diccionario con toda la información ingresada."
   ]
  },
  {
   "cell_type": "code",
   "execution_count": null,
   "metadata": {},
   "outputs": [
    {
     "name": "stdout",
     "output_type": "stream",
     "text": [
      "{'Sara': {'Edad': 38, 'Ciudad': 'Madrid'}, 'Cibi': {'Edad': 34, 'Ciudad': 'Valencia'}}\n"
     ]
    }
   ],
   "source": [
    "diccionario_ejemplo = {\"Sara\": [38, \"Madrid\"], \"Cibi\": [34, \"Valencia\"]}\n",
    "\n",
    "def datos_totales(**kwargs):\n",
    "    diccionario_final = {}\n",
    "    \n",
    "    for nombre, datos in kwargs.items():\n",
    "        edad,ciudad = datos\n",
    "        diccionario_final[nombre] = {\"Edad\": edad, \"Ciudad\": ciudad}\n",
    "    \n",
    "    return diccionario_final\n",
    "\n",
    "resultado = datos_totales(**diccionario_ejemplo)\n",
    "print(resultado)\n",
    "\n"
   ]
  },
  {
   "cell_type": "markdown",
   "metadata": {},
   "source": [
    "Encontrar el número que falta en una lista ordenada de números consecutivos.\n",
    "\n",
    "        Descripción: Crea una función llamada encontrar_numero_faltante que tome una lista de números consecutivos (del 1 al N, sin repetir) con un número faltante y devuelva ese número faltante."
   ]
  },
  {
   "cell_type": "code",
   "execution_count": null,
   "metadata": {},
   "outputs": [],
   "source": []
  },
  {
   "cell_type": "markdown",
   "metadata": {},
   "source": [
    " Encontrar el elemento duplicado en una lista de números.\n",
    "\n",
    "        Descripción: Crea una función llamada encontrar_duplicado que tome una lista de números enteros y devuelva el elemento que está duplicado en la lista."
   ]
  },
  {
   "cell_type": "code",
   "execution_count": null,
   "metadata": {},
   "outputs": [],
   "source": []
  }
 ],
 "metadata": {
  "kernelspec": {
   "display_name": "base",
   "language": "python",
   "name": "python3"
  },
  "language_info": {
   "codemirror_mode": {
    "name": "ipython",
    "version": 3
   },
   "file_extension": ".py",
   "mimetype": "text/x-python",
   "name": "python",
   "nbconvert_exporter": "python",
   "pygments_lexer": "ipython3",
   "version": "3.11.11"
  }
 },
 "nbformat": 4,
 "nbformat_minor": 2
}
