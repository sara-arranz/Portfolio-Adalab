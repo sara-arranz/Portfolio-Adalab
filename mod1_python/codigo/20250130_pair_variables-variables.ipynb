{
 "cells": [
  {
   "cell_type": "markdown",
   "metadata": {},
   "source": [
    "Crea tres variables numéricas de tipo integer (entero), llamadas de la siguiente forma:\n",
    "    numero1\n",
    "    numero2\n",
    "    numero3\n",
    "Utilizando los operadores lógicos:\n",
    "    ¿En vuestro caso, es el numero1 mayor que el numero2?\n",
    "    ¿Es el numero1 menor que el numero2 pero mayor que el numero3?\n",
    "    ¿Es el numero3 igual que el numero2\n",
    "    ¿Es el numero2 distinto que el numero1?"
   ]
  },
  {
   "cell_type": "code",
   "execution_count": 1,
   "metadata": {},
   "outputs": [
    {
     "name": "stdout",
     "output_type": "stream",
     "text": [
      "False\n",
      "True\n",
      "False\n",
      "True\n"
     ]
    }
   ],
   "source": [
    "numero1 = 3\n",
    "numero2 = 10\n",
    "numero3 = 2\n",
    "\n",
    "print(numero1>numero2)\n",
    "print((numero1<numero2)and numero1>numero3)\n",
    "\n",
    "print(numero3==numero2)\n",
    "print(numero2 !=numero1)"
   ]
  },
  {
   "cell_type": "markdown",
   "metadata": {},
   "source": [
    "Crea dos variables numéricas de tipo float (decimal) con dos decimales, llámalas de la siguiente forma:\n",
    "    altura1\n",
    "    altura2 \n",
    "Utilizando los operadores matemáticos aprendidos en la lección:\n",
    "    Cuál es la suma de las dos alturas\n",
    "    Cuál es la diferencia entre las alturas\n",
    "    Cuál es el resto de la división de las dos alturas\n",
    "    Cuál es resultado de la división de las dos alturas, redondead el resultado a un decimal.\n"
   ]
  },
  {
   "cell_type": "code",
   "execution_count": 19,
   "metadata": {},
   "outputs": [
    {
     "name": "stdout",
     "output_type": "stream",
     "text": [
      "La suma de las alturas es 10.5 metros\n",
      "La diferencia alturas es de 6.5 metros\n",
      "El resto de la division de las alturas es  0.5  metros\n",
      "Lo resultado de las alturas es 4.25\n"
     ]
    }
   ],
   "source": [
    "altura1 = 8.5\n",
    "altura2 = 2.0\n",
    "\n",
    "\n",
    "print('La suma de las alturas es',altura1+altura2,'metros')\n",
    "print('La diferencia alturas es de',altura1-altura2, 'metros')\n",
    "print ('El resto de la division de las alturas es ',altura1%altura2,' metros')\n",
    "print ('Lo resultado de las alturas es',round (altura1/altura2, round(2)))"
   ]
  },
  {
   "cell_type": "markdown",
   "metadata": {},
   "source": [
    "Escribe un programa usando la función input() que le pregunte al usuario su nombre y apellidos. Una vez que tengamos el nombre del usuario:    \n",
    "    Imprime su nombre y apellidos todo en mayúsculas\n",
    "    Imprime su nombre y apellidos todo en minúsculas\n",
    "    Imprime su nombre y apellidos con la primera letra del nombre y los apellidos en mayúscula y el resto en minúscula.\n",
    "    Imprime solo la primera letra del nombre en mayúscula."
   ]
  },
  {
   "cell_type": "code",
   "execution_count": 24,
   "metadata": {},
   "outputs": [
    {
     "name": "stdout",
     "output_type": "stream",
     "text": [
      "CIBI BUSNELLO\n",
      "cibi busnello\n",
      "Cibi Busnello\n",
      "B\n"
     ]
    }
   ],
   "source": [
    "nombre = input('Cual es tu nombre?')\n",
    "apelido = input('Cual es tu apelido?')\n",
    "nombre_completo = nombre + \" \" + apelido\n",
    "\n",
    "print(nombre_completo.upper())\n",
    "print(nombre_completo.lower())\n",
    "print(nombre_completo.title())\n",
    "print(nombre[2].capitalize())"
   ]
  },
  {
   "cell_type": "markdown",
   "metadata": {},
   "source": [
    "Escribe un programa usando la función input() que:\n",
    "    Le pregunte al usuario por una frase, almacenad este resultado en una variable.\n",
    "    Le pregunte al usuario por una vocal, almacenad este resultado en una variable.\n",
    "    Imprime la misma frase pero con la vocal introducida en mayúsculas."
   ]
  },
  {
   "cell_type": "code",
   "execution_count": 39,
   "metadata": {},
   "outputs": [
    {
     "name": "stdout",
     "output_type": "stream",
     "text": [
      "A\n",
      "todAy is A beAutiful dAy\n"
     ]
    }
   ],
   "source": [
    "Una_frase = input('Digame una frase:')\n",
    "Una_vogal = input('Digame una vogal:')\n",
    "Una_vogal_upper = Una_vogal.upper()\n",
    "print(Una_vogal_upper)\n",
    "print(Una_frase.replace(Una_vogal,Una_vogal_upper))"
   ]
  },
  {
   "cell_type": "markdown",
   "metadata": {},
   "source": [
    "Crea un programa que realice los siguientes pasos:\n",
    "    Solicite al usuario que introduzca su lista de la compra en una sola línea, separando cada elemento por comas.\n",
    "    Convierte la entrada del usuario en una lista donde cada elemento sea un ítem de la compra.\n",
    "    Muestra cada ítem de la lista en una nueva línea."
   ]
  },
  {
   "cell_type": "code",
   "execution_count": 69,
   "metadata": {},
   "outputs": [
    {
     "name": "stdout",
     "output_type": "stream",
     "text": [
      "cafe\n",
      "cholocale\n",
      "dulce de leche\n"
     ]
    }
   ],
   "source": [
    "lista_de_compra = ['cafe','cholocale','dulce de leche']\n",
    "string_lista_de_compra = \"\\n\".join(lista_de_compra)\n",
    "print(string_lista_de_compra)\n"
   ]
  }
 ],
 "metadata": {
  "kernelspec": {
   "display_name": "base",
   "language": "python",
   "name": "python3"
  },
  "language_info": {
   "codemirror_mode": {
    "name": "ipython",
    "version": 3
   },
   "file_extension": ".py",
   "mimetype": "text/x-python",
   "name": "python",
   "nbconvert_exporter": "python",
   "pygments_lexer": "ipython3",
   "version": "3.12.7"
  }
 },
 "nbformat": 4,
 "nbformat_minor": 2
}
