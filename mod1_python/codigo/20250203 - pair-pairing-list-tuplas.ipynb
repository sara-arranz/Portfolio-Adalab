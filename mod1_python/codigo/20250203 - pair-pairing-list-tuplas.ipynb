{
 "cells": [
  {
   "cell_type": "code",
   "execution_count": 12,
   "metadata": {},
   "outputs": [
    {
     "name": "stdout",
     "output_type": "stream",
     "text": [
      "[2, 4, 6, 8, 2, 4, 6, 8]\n"
     ]
    }
   ],
   "source": [
    "# Duplicar elementos de una lista\n",
    "# Descripción: Dada una lista de números, duplica cada elemento en la lista. Ejemplo:\n",
    "# dada la siguiente lista el output esperado es:\n",
    "# lista = [2, 4, 6, 8]\n",
    "# [2, 4, 6, 8, 2, 4, 6, 8]\n",
    "\n",
    "\n",
    "lista = [2,4,6,8]\n",
    "lista.extend(lista)\n",
    "\n",
    "\n",
    "print(lista)"
   ]
  },
  {
   "cell_type": "code",
   "execution_count": 1,
   "metadata": {},
   "outputs": [
    {
     "name": "stdout",
     "output_type": "stream",
     "text": [
      "None\n"
     ]
    }
   ],
   "source": [
    "# Combinar dos listas\n",
    "# Descripción: Dadas dos listas, crea una nueva lista que contenga todos los elementos de ambas listas. Ejemplo:\n",
    "# dadas las siguientes listas el output esperado es:\n",
    "# lista1 = [1, 2, 3]\n",
    "# lista2 = [4, 5, 6]\n",
    "# [1, 2, 3, 4, 5, 6]\n",
    "\n",
    "lista1 = [1,2,3]\n",
    "lista2 = [4,5,6]\n",
    "\n",
    "\n",
    "lista3=lista1.extend(lista2)\n",
    "\n",
    "print(lista3)"
   ]
  },
  {
   "cell_type": "code",
   "execution_count": 61,
   "metadata": {},
   "outputs": [
    {
     "name": "stdout",
     "output_type": "stream",
     "text": [
      "[1, 2, 3, 4, 5, 6]\n"
     ]
    }
   ],
   "source": [
    "lista1 = [1,2,3]\n",
    "lista2 = [4,5,6]\n",
    "lista1.extend(lista2)\n",
    "print(lista1)\n",
    "\n",
    "lista3=lista1.copy()"
   ]
  },
  {
   "cell_type": "code",
   "execution_count": 36,
   "metadata": {},
   "outputs": [
    {
     "name": "stdout",
     "output_type": "stream",
     "text": [
      "None\n"
     ]
    }
   ],
   "source": [
    "lista3 = lista1.extend(lista2)\n",
    "print(lista3)"
   ]
  },
  {
   "cell_type": "code",
   "execution_count": 67,
   "metadata": {},
   "outputs": [
    {
     "name": "stdout",
     "output_type": "stream",
     "text": [
      "36\n"
     ]
    }
   ],
   "source": [
    "# Calcular la suma de una lista de números\n",
    "# Descripción: Dada una lista de números, calcula la suma de todos los elementos.\n",
    "\n",
    "listadenum = [5,8,9,14]\n",
    "sumlistadeum = sum(listadenum)\n",
    "print(sumlistadeum)\n"
   ]
  },
  {
   "cell_type": "code",
   "execution_count": 72,
   "metadata": {},
   "outputs": [
    {
     "data": {
      "text/plain": [
       "36"
      ]
     },
     "execution_count": 72,
     "metadata": {},
     "output_type": "execute_result"
    }
   ],
   "source": [
    "listadenum[0]+listadenum[1]+listadenum[2]+listadenum[3]"
   ]
  },
  {
   "cell_type": "code",
   "execution_count": 79,
   "metadata": {},
   "outputs": [
    {
     "data": {
      "text/plain": [
       "14"
      ]
     },
     "execution_count": 79,
     "metadata": {},
     "output_type": "execute_result"
    }
   ],
   "source": [
    "# Encontrar el valor máximo en una lista\n",
    "#Descripción: Dada una lista de números, encuentra el valor máximo.\n",
    "\n",
    "listadenum = [5,8,9,14]\n",
    "max(listadenum)"
   ]
  },
  {
   "cell_type": "code",
   "execution_count": 80,
   "metadata": {},
   "outputs": [
    {
     "data": {
      "text/plain": [
       "4"
      ]
     },
     "execution_count": 80,
     "metadata": {},
     "output_type": "execute_result"
    }
   ],
   "source": [
    "#Calcular la longitud de una lista\n",
    "#Descripción: Dada una lista, calcula la cantidad de elementos que contiene.\n",
    "\n",
    "listadenum\n",
    "len(listadenum)"
   ]
  },
  {
   "cell_type": "code",
   "execution_count": 83,
   "metadata": {},
   "outputs": [
    {
     "data": {
      "text/plain": [
       "0"
      ]
     },
     "execution_count": 83,
     "metadata": {},
     "output_type": "execute_result"
    }
   ],
   "source": [
    "#Descripción: Dada una lista y un valor objetivo, encuentra el índice del primer elemento que coincida con el valor objetivo.\n",
    "\n",
    "listadenum = [5,8,9,14]\n",
    "listadenum.index(5)\n"
   ]
  },
  {
   "cell_type": "code",
   "execution_count": 92,
   "metadata": {},
   "outputs": [
    {
     "data": {
      "text/plain": [
       "2"
      ]
     },
     "execution_count": 92,
     "metadata": {},
     "output_type": "execute_result"
    }
   ],
   "source": [
    "#7 Contar ocurrencias de un elemento en una lista\n",
    "#Descripción: Dada una lista y un valor objetivo, cuenta cuántas veces aparece el valor objetivo en la lista.\n",
    "\n",
    "listadenum = [5,8,9,14,22,21,30,14]\n",
    "listadenum.count(14)"
   ]
  },
  {
   "cell_type": "code",
   "execution_count": 104,
   "metadata": {},
   "outputs": [
    {
     "name": "stdout",
     "output_type": "stream",
     "text": [
      "[14, 22]\n"
     ]
    }
   ],
   "source": [
    "#8 - Obtener una sublista de una lista\n",
    "#Descripción: Dada una lista, crea una nueva lista que contenga los elementos desde el índice 2 hasta el índice 5 (sin incluirlo).\n",
    "listadenum = [5,8,9,14,22,21,30,14]\n",
    "listadenum[2:5]\n",
    "lista5 = listadenum[3:5]\n",
    "print(lista5)"
   ]
  },
  {
   "cell_type": "code",
   "execution_count": 115,
   "metadata": {},
   "outputs": [
    {
     "data": {
      "text/plain": [
       "14"
      ]
     },
     "execution_count": 115,
     "metadata": {},
     "output_type": "execute_result"
    }
   ],
   "source": [
    "#9 /10- Obtener el último elemento de una lista\n",
    "#Descripción: Dada una lista, obtén el último elemento.\n",
    "listadenum = [5,8,9,14,22,21,30,14]\n",
    "listadenum[-1]\n"
   ]
  },
  {
   "cell_type": "code",
   "execution_count": 116,
   "metadata": {},
   "outputs": [
    {
     "data": {
      "text/plain": [
       "[9]"
      ]
     },
     "execution_count": 116,
     "metadata": {},
     "output_type": "execute_result"
    }
   ],
   "source": [
    "#11 - Obtener una sublista de una lista\n",
    "# Descripción: Dada una lista, obtén una sublista que contenga los elementos desde el índice 1 hasta el índice 3 (sin incluirlo).\n",
    "listadenum = [5,8,9,14,22,21,30,14]\n",
    "listadenum[2:3]"
   ]
  },
  {
   "cell_type": "code",
   "execution_count": 124,
   "metadata": {},
   "outputs": [
    {
     "name": "stdout",
     "output_type": "stream",
     "text": [
      "[5, 'rosa', 9, 14, 22, 21, 30, 14]\n"
     ]
    }
   ],
   "source": [
    "#12 Reemplazar un elemento en una lista\n",
    "# Descripción: Dada una lista, reemplaza el segundo elemento con un nuevo valor.\n",
    "listadenum = [5,8,9,14,22,21,30,14]\n",
    "listadenum.pop(1), \n",
    "listadenum.insert(1,'rosa')\n",
    "\n",
    "print(listadenum)"
   ]
  },
  {
   "cell_type": "code",
   "execution_count": 138,
   "metadata": {},
   "outputs": [
    {
     "name": "stdout",
     "output_type": "stream",
     "text": [
      "[14, 30, 21, 22, 14, 9, 8, 5]\n"
     ]
    }
   ],
   "source": [
    "#13 - Obtener una lista inversa\n",
    "#Descripción: Dada una lista, obtén una nueva lista que contenga los elementos en orden inverso.\n",
    "\n",
    "listadenum = [5,8,9,14,22,21,30,14]\n",
    "listadenum=lista6.copy()\n",
    "print(listadenum)\n"
   ]
  },
  {
   "cell_type": "code",
   "execution_count": 9,
   "metadata": {},
   "outputs": [
    {
     "name": "stdout",
     "output_type": "stream",
     "text": [
      "[5, 8, 9, 14, 14, 21, 22, 30]\n",
      "[30, 22, 21, 14, 14, 9, 8, 5]\n"
     ]
    }
   ],
   "source": [
    "#14 Ordenar una lista en orden ascendente\n",
    "#Descripción: Dada una lista de números, ordénala en orden ascendente.\n",
    "listadenum = [5,8,9,14,22,21,30,14]\n",
    "listadenum.sort()\n",
    "print(listadenum)\n",
    "\n",
    "#Lista orden descendente\n",
    "listadenum.sort(reverse=True)\n",
    "print(listadenum)"
   ]
  },
  {
   "cell_type": "code",
   "execution_count": 17,
   "metadata": {},
   "outputs": [
    {
     "data": {
      "text/plain": [
       "[8, 14, 21, 14]"
      ]
     },
     "execution_count": 17,
     "metadata": {},
     "output_type": "execute_result"
    }
   ],
   "source": [
    "#15 Obtener elementos pares de una lista\n",
    "# Descripción: Dada una lista, obtén una nueva lista que contenga solo los elementos en posiciones pares.\n",
    "listadenum = [5,8,9,14,22,21,30,14]\n",
    "listadenum[1::2]\n",
    "\n"
   ]
  },
  {
   "cell_type": "code",
   "execution_count": 41,
   "metadata": {},
   "outputs": [
    {
     "name": "stdout",
     "output_type": "stream",
     "text": [
      "[5, 8, 9, 14, 22, 21, 30, 14, 27]\n",
      "[5, 8, 9, 14, 22, 21, 30, 14, 27] [9, 21, 27]\n"
     ]
    }
   ],
   "source": [
    "#16 - Obtener una sublista saltando elementos\n",
    "# Descripción: Dada una lista, obtén una sublista que contenga los elementos saltando de 3 en 3.\n",
    "listadenum = [5,8,9,14,22,21,30,14,27]\n",
    "listadenum[::3]\n",
    "print(listadenum)\n",
    "\n",
    "print(listadenum, listadenum[2::3])\n"
   ]
  },
  {
   "cell_type": "code",
   "execution_count": 46,
   "metadata": {},
   "outputs": [
    {
     "name": "stdout",
     "output_type": "stream",
     "text": [
      "[5, 8, 9, 14, 14, 21, 22, 27, 30]\n"
     ]
    },
    {
     "data": {
      "text/plain": [
       "27"
      ]
     },
     "execution_count": 46,
     "metadata": {},
     "output_type": "execute_result"
    }
   ],
   "source": [
    "#17 Encontrar el segundo valor máximo en una lista\n",
    "#Descripción: Dada una lista de números, encuentra el segundo valor máximo.\n",
    "\n",
    "listadenum = [5,8,9,14,22,21,30,14,27]\n",
    "listadenum.sort()\n",
    "print(listadenum)\n",
    "listadenum[-2]"
   ]
  },
  {
   "cell_type": "code",
   "execution_count": 89,
   "metadata": {},
   "outputs": [
    {
     "name": "stdout",
     "output_type": "stream",
     "text": [
      "['Y', 'T', 'D', 'A', 'A']\n",
      "['A', 'A', 'D', 'T', 'Y']\n",
      "['Y', 'T', 'D', 'A', 'A']\n"
     ]
    },
    {
     "data": {
      "text/plain": [
       "['Y', 'T', 'D', 'A', 'A']"
      ]
     },
     "execution_count": 89,
     "metadata": {},
     "output_type": "execute_result"
    }
   ],
   "source": [
    "#Teórico. Debereis contestar la pregunta en una celda de markdown.\n",
    "#Descripción: ¿Qué diferencia existe entre el .sort() y el sorted()\n",
    "\n",
    "lis1 = ['A','T','Y','D','A']\n",
    "\n",
    "lis1.sort(reverse=True)\n",
    "print(lis1)\n",
    "\n",
    "\n",
    "print(sorted(lis1))\n",
    "print(lis1)\n",
    "\n",
    "lis1.copy()\n"
   ]
  },
  {
   "cell_type": "markdown",
   "metadata": {},
   "source": [
    "SORTED - NO SUBSCREVE\n",
    "SORT - SUBSCREVE"
   ]
  },
  {
   "cell_type": "markdown",
   "metadata": {},
   "source": [
    "print(listadenum)"
   ]
  }
 ],
 "metadata": {
  "kernelspec": {
   "display_name": "base",
   "language": "python",
   "name": "python3"
  },
  "language_info": {
   "codemirror_mode": {
    "name": "ipython",
    "version": 3
   },
   "file_extension": ".py",
   "mimetype": "text/x-python",
   "name": "python",
   "nbconvert_exporter": "python",
   "pygments_lexer": "ipython3",
   "version": "3.12.7"
  }
 },
 "nbformat": 4,
 "nbformat_minor": 2
}
