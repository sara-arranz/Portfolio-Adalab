{
 "cells": [
  {
   "cell_type": "code",
   "execution_count": 1,
   "metadata": {},
   "outputs": [],
   "source": [
    "#pip install selenium"
   ]
  },
  {
   "cell_type": "code",
   "execution_count": 2,
   "metadata": {},
   "outputs": [],
   "source": [
    "#pip install webdriver-manager"
   ]
  },
  {
   "cell_type": "code",
   "execution_count": 3,
   "metadata": {},
   "outputs": [],
   "source": [
    "import pandas as pd\n",
    "\n",
    "from bs4 import BeautifulSoup\n",
    "\n",
    "import requests\n",
    "\n",
    "\n",
    "from selenium import webdriver  # Selenium es una herramienta para automatizar la interacción con navegadores web.\n",
    "from webdriver_manager.chrome import ChromeDriverManager  # ChromeDriverManager gestiona la instalación del controlador de Chrome.\n",
    "from selenium.webdriver.common.keys import Keys  # Keys es útil para simular eventos de teclado en Selenium.\n",
    "from selenium.webdriver.support.ui import Select\n",
    "\n",
    "from time import sleep #para pausar la ejecución del programa por un número de segundos de espera\n",
    "\n",
    "#Configuración\n",
    "\n",
    "pd.set_option('display.max_columns', None) # Establece una opción de Pandas para mostrar todas \n",
    "                                            #las columnas de un DataFrame\n"
   ]
  },
  {
   "cell_type": "markdown",
   "metadata": {},
   "source": [
    "Inspeccionar encima de la imagen de la página web, lo veo en la ventana abierta de inspección, boton derecho: copy selector."
   ]
  },
  {
   "cell_type": "code",
   "execution_count": 6,
   "metadata": {},
   "outputs": [
    {
     "name": "stdout",
     "output_type": "stream",
     "text": [
      "accedo a la página\n",
      "aceptando cookies\n",
      "entrando en input\n"
     ]
    }
   ],
   "source": [
    "driver = webdriver.Chrome()\n",
    "\n",
    "driver.maximize_window()\n",
    "\n",
    "#Entro en la pagina\n",
    "driver.get(\"https://www.decathlon.es/\")\n",
    "print(\"accedo a la página\")\n",
    "sleep(3)\n",
    "# aceptar cookies\n",
    "driver.find_element(\"css selector\", \"#didomi-notice-agree-button\").click()\n",
    "print(\"aceptando cookies\")\n",
    "\n",
    "sleep(2)\n",
    "\n",
    "#Accediendo a una categoria\n",
    "categoria = input('Qué quieres buscar')\n",
    "driver.find_element(\"css selector\", \"#search-bar > div > form > div > input\").send_keys(categoria, Keys.ENTER)\n",
    "print('entrando en input')\n",
    "\n",
    "#Guardo la url para usarla en BS depués, por ejemplo:\n",
    "url_categoria = driver.current_url\n",
    "\n",
    "\n",
    "driver.close()\n"
   ]
  },
  {
   "cell_type": "markdown",
   "metadata": {},
   "source": [
    "https://beta.adalab.es/online_supermarket/"
   ]
  },
  {
   "cell_type": "code",
   "execution_count": 9,
   "metadata": {},
   "outputs": [
    {
     "name": "stdout",
     "output_type": "stream",
     "text": [
      "accedo a la página\n",
      "aceptando cookies\n",
      "entrando en menu\n",
      "entrando en menu\n",
      "Naranjas de mesa, malla 2 Kg aprox.\n"
     ]
    },
    {
     "ename": "NoSuchElementException",
     "evalue": "Message: no such element: Unable to locate element: {\"method\":\"css selector\",\"selector\":\"body > div > header > div > div.HamburgerMenu_menuExpanded__eR7Cl > ul > li:nth-child(2) > a\"}\n  (Session info: chrome=134.0.6998.88); For documentation on this error, please visit: https://www.selenium.dev/documentation/webdriver/troubleshooting/errors#no-such-element-exception\nStacktrace:\n#0 0x5852a2c21a1a <unknown>\n#1 0x5852a26d9390 <unknown>\n#2 0x5852a272ac85 <unknown>\n#3 0x5852a272aeb1 <unknown>\n#4 0x5852a2779d64 <unknown>\n#5 0x5852a2750bfd <unknown>\n#6 0x5852a277707b <unknown>\n#7 0x5852a27509a3 <unknown>\n#8 0x5852a271c60e <unknown>\n#9 0x5852a271ddd1 <unknown>\n#10 0x5852a2be7ddb <unknown>\n#11 0x5852a2bebcbc <unknown>\n#12 0x5852a2bcf392 <unknown>\n#13 0x5852a2bec834 <unknown>\n#14 0x5852a2bb31ef <unknown>\n#15 0x5852a2c10038 <unknown>\n#16 0x5852a2c10216 <unknown>\n#17 0x5852a2c20896 <unknown>\n#18 0x76027609caa4 <unknown>\n#19 0x760276129c3c <unknown>\n",
     "output_type": "error",
     "traceback": [
      "\u001b[0;31m---------------------------------------------------------------------------\u001b[0m",
      "\u001b[0;31mNoSuchElementException\u001b[0m                    Traceback (most recent call last)",
      "Cell \u001b[0;32mIn[9], line 46\u001b[0m\n\u001b[1;32m     41\u001b[0m sleep(\u001b[38;5;241m2\u001b[39m)\n\u001b[1;32m     43\u001b[0m \u001b[38;5;66;03m#Ampliamos ejercicio: Sin iterar tras el click sino que selenium es quien entra en cada producto y nos devuelve el\u001b[39;00m\n\u001b[1;32m     44\u001b[0m \u001b[38;5;66;03m#texto de cada uno. \u001b[39;00m\n\u001b[0;32m---> 46\u001b[0m driver\u001b[38;5;241m.\u001b[39mfind_element(\u001b[38;5;124m\"\u001b[39m\u001b[38;5;124mcss selector\u001b[39m\u001b[38;5;124m\"\u001b[39m, \u001b[38;5;124m\"\u001b[39m\u001b[38;5;124mbody > div > header > div > div.HamburgerMenu_menuExpanded__eR7Cl > ul > li:nth-child(2) > a\u001b[39m\u001b[38;5;124m\"\u001b[39m)\u001b[38;5;241m.\u001b[39mclick()\n\u001b[1;32m     47\u001b[0m sleep(\u001b[38;5;241m1\u001b[39m)\n\u001b[1;32m     48\u001b[0m \u001b[38;5;28;01mfor\u001b[39;00m i \u001b[38;5;129;01min\u001b[39;00m \u001b[38;5;28mrange\u001b[39m(\u001b[38;5;241m1\u001b[39m,\u001b[38;5;241m3\u001b[39m):\n",
      "File \u001b[0;32m~/anaconda3/lib/python3.11/site-packages/selenium/webdriver/remote/webdriver.py:898\u001b[0m, in \u001b[0;36mWebDriver.find_element\u001b[0;34m(self, by, value)\u001b[0m\n\u001b[1;32m    895\u001b[0m         \u001b[38;5;28;01mraise\u001b[39;00m NoSuchElementException(\u001b[38;5;124mf\u001b[39m\u001b[38;5;124m\"\u001b[39m\u001b[38;5;124mCannot locate relative element with: \u001b[39m\u001b[38;5;132;01m{\u001b[39;00mby\u001b[38;5;241m.\u001b[39mroot\u001b[38;5;132;01m}\u001b[39;00m\u001b[38;5;124m\"\u001b[39m)\n\u001b[1;32m    896\u001b[0m     \u001b[38;5;28;01mreturn\u001b[39;00m elements[\u001b[38;5;241m0\u001b[39m]\n\u001b[0;32m--> 898\u001b[0m \u001b[38;5;28;01mreturn\u001b[39;00m \u001b[38;5;28mself\u001b[39m\u001b[38;5;241m.\u001b[39mexecute(Command\u001b[38;5;241m.\u001b[39mFIND_ELEMENT, {\u001b[38;5;124m\"\u001b[39m\u001b[38;5;124musing\u001b[39m\u001b[38;5;124m\"\u001b[39m: by, \u001b[38;5;124m\"\u001b[39m\u001b[38;5;124mvalue\u001b[39m\u001b[38;5;124m\"\u001b[39m: value})[\u001b[38;5;124m\"\u001b[39m\u001b[38;5;124mvalue\u001b[39m\u001b[38;5;124m\"\u001b[39m]\n",
      "File \u001b[0;32m~/anaconda3/lib/python3.11/site-packages/selenium/webdriver/remote/webdriver.py:429\u001b[0m, in \u001b[0;36mWebDriver.execute\u001b[0;34m(self, driver_command, params)\u001b[0m\n\u001b[1;32m    427\u001b[0m response \u001b[38;5;241m=\u001b[39m \u001b[38;5;28mself\u001b[39m\u001b[38;5;241m.\u001b[39mcommand_executor\u001b[38;5;241m.\u001b[39mexecute(driver_command, params)\n\u001b[1;32m    428\u001b[0m \u001b[38;5;28;01mif\u001b[39;00m response:\n\u001b[0;32m--> 429\u001b[0m     \u001b[38;5;28mself\u001b[39m\u001b[38;5;241m.\u001b[39merror_handler\u001b[38;5;241m.\u001b[39mcheck_response(response)\n\u001b[1;32m    430\u001b[0m     response[\u001b[38;5;124m\"\u001b[39m\u001b[38;5;124mvalue\u001b[39m\u001b[38;5;124m\"\u001b[39m] \u001b[38;5;241m=\u001b[39m \u001b[38;5;28mself\u001b[39m\u001b[38;5;241m.\u001b[39m_unwrap_value(response\u001b[38;5;241m.\u001b[39mget(\u001b[38;5;124m\"\u001b[39m\u001b[38;5;124mvalue\u001b[39m\u001b[38;5;124m\"\u001b[39m, \u001b[38;5;28;01mNone\u001b[39;00m))\n\u001b[1;32m    431\u001b[0m     \u001b[38;5;28;01mreturn\u001b[39;00m response\n",
      "File \u001b[0;32m~/anaconda3/lib/python3.11/site-packages/selenium/webdriver/remote/errorhandler.py:232\u001b[0m, in \u001b[0;36mErrorHandler.check_response\u001b[0;34m(self, response)\u001b[0m\n\u001b[1;32m    230\u001b[0m         alert_text \u001b[38;5;241m=\u001b[39m value[\u001b[38;5;124m\"\u001b[39m\u001b[38;5;124malert\u001b[39m\u001b[38;5;124m\"\u001b[39m]\u001b[38;5;241m.\u001b[39mget(\u001b[38;5;124m\"\u001b[39m\u001b[38;5;124mtext\u001b[39m\u001b[38;5;124m\"\u001b[39m)\n\u001b[1;32m    231\u001b[0m     \u001b[38;5;28;01mraise\u001b[39;00m exception_class(message, screen, stacktrace, alert_text)  \u001b[38;5;66;03m# type: ignore[call-arg]  # mypy is not smart enough here\u001b[39;00m\n\u001b[0;32m--> 232\u001b[0m \u001b[38;5;28;01mraise\u001b[39;00m exception_class(message, screen, stacktrace)\n",
      "\u001b[0;31mNoSuchElementException\u001b[0m: Message: no such element: Unable to locate element: {\"method\":\"css selector\",\"selector\":\"body > div > header > div > div.HamburgerMenu_menuExpanded__eR7Cl > ul > li:nth-child(2) > a\"}\n  (Session info: chrome=134.0.6998.88); For documentation on this error, please visit: https://www.selenium.dev/documentation/webdriver/troubleshooting/errors#no-such-element-exception\nStacktrace:\n#0 0x5852a2c21a1a <unknown>\n#1 0x5852a26d9390 <unknown>\n#2 0x5852a272ac85 <unknown>\n#3 0x5852a272aeb1 <unknown>\n#4 0x5852a2779d64 <unknown>\n#5 0x5852a2750bfd <unknown>\n#6 0x5852a277707b <unknown>\n#7 0x5852a27509a3 <unknown>\n#8 0x5852a271c60e <unknown>\n#9 0x5852a271ddd1 <unknown>\n#10 0x5852a2be7ddb <unknown>\n#11 0x5852a2bebcbc <unknown>\n#12 0x5852a2bcf392 <unknown>\n#13 0x5852a2bec834 <unknown>\n#14 0x5852a2bb31ef <unknown>\n#15 0x5852a2c10038 <unknown>\n#16 0x5852a2c10216 <unknown>\n#17 0x5852a2c20896 <unknown>\n#18 0x76027609caa4 <unknown>\n#19 0x760276129c3c <unknown>\n"
     ]
    }
   ],
   "source": [
    "driver = webdriver.Chrome()\n",
    "\n",
    "driver.maximize_window()\n",
    "\n",
    "#Entro en la pagina\n",
    "driver.get('https://beta.adalab.es/online_supermarket/')\n",
    "print(\"accedo a la página\")\n",
    "\n",
    "sleep(3)\n",
    "\n",
    "#Aceptamos cookies\n",
    "\n",
    "driver.find_element(\"css selector\", \"body > div.__variable_a6519f > div.CookieConsent_cookieBanner__43bRN > div > button.CookieConsent_acceptButton__Mb_bR.CookieConsent_acceptAllButton__yhaaI\").click()\n",
    "print(\"aceptando cookies\")\n",
    "\n",
    "#Entramos en el menu de la pagina\n",
    "\n",
    "driver.find_element(\"css selector\", \"body > div > header > div > div\").click()\n",
    "print(\"entrando en menu\")\n",
    "\n",
    "\n",
    "#Click en frutas y verduras\n",
    "\n",
    "driver.find_element(\"css selector\", \"body > div > header > div > div.HamburgerMenu_menuExpanded__eR7Cl > ul > li:nth-child(2) > a\").click()\n",
    "print(\"entrando en menu\")\n",
    "\n",
    "sleep(1)\n",
    "\n",
    "#Busco el patron para poder diferencias los productos para seleccionar y genero una lista de nombres de productos:\n",
    "\n",
    "frutas = {'nombres':[]}\n",
    "\n",
    "for i in range(1,5):\n",
    "    \n",
    "    nombre = driver.find_element(\"css selector\", f\"body > main > div.ProductsListSection_container__d5XJ3 > a:nth-child({i}) > div > div.ProductCard_details__ElEDC > h3\").text\n",
    "    frutas ['nombres'].append (nombre)\n",
    "\n",
    "\n",
    "print(nombre)\n",
    "\n",
    "sleep(2)\n",
    "\n",
    "#Ampliamos ejercicio: Sin iterar tras el click sino que selenium es quien entra en cada producto y nos devuelve el\n",
    "#texto de cada uno. \n",
    "\n",
    "driver.find_element(\"css selector\", \"body > div > header > div > div.HamburgerMenu_menuExpanded__eR7Cl > ul > li:nth-child(2) > a\").click()\n",
    "sleep(1)\n",
    "for i in range(1,3):\n",
    "    driver.find_element(\"css selector\", f\"body > main > div.ProductsListSection_container__d5XJ3 > a:nth-child({i}) > div > div.ProductCard_imageWrapper__T_1BL > img\").click()\n",
    "    sleep(2)\n",
    "    try:\n",
    "        nombre = driver.find_element(\"css selector\", \"body > div > div > div > div > h1\").text\n",
    "        print(nombre)\n",
    "    except:\n",
    "        print(\"no lo encuentro\")\n",
    "    driver.back()\n",
    "    sleep(2)\n",
    "\n",
    "driver.close()"
   ]
  },
  {
   "cell_type": "markdown",
   "metadata": {},
   "source": [
    "Ejercicio con los descuentos de la página"
   ]
  },
  {
   "cell_type": "code",
   "execution_count": 8,
   "metadata": {},
   "outputs": [
    {
     "name": "stdout",
     "output_type": "stream",
     "text": [
      "accedo a la página\n",
      "aceptando cookies\n",
      "abriendo menu categorías\n",
      "Manzanas Golden, bandeja 1 Kg aprox.\n",
      "no hay descuento\n",
      "Plátanos de Canarias, mano 1 Kg aprox.\n",
      "no hay descuento\n",
      "Tomates pera, bandeja 1 Kg aprox.\n",
      "no hay descuento\n",
      "Naranjas de mesa, malla 2 Kg aprox.\n",
      "Descuento: 10%\n"
     ]
    }
   ],
   "source": [
    "driver = webdriver.Chrome()\n",
    "driver.maximize_window()\n",
    "# entro en la página\n",
    "driver.get(\"https://beta.adalab.es/online_supermarket/\")\n",
    "print(\"accedo a la página\")\n",
    "sleep(3)\n",
    "# aceptamos cookies\n",
    "driver.find_element(\"css selector\", \"body > div.__variable_a6519f > div.CookieConsent_cookieBanner__43bRN > div > button.CookieConsent_acceptButton__Mb_bR.CookieConsent_acceptAllButton__yhaaI\").click()\n",
    "print(\"aceptando cookies\")\n",
    "sleep(1)\n",
    "# pincjando en menu categorias\n",
    "driver.find_element(\"css selector\", \"body > div > header > div > div\").click()\n",
    "print(\"abriendo menu categorías\")\n",
    "# click en frutas\n",
    "driver.find_element(\"css selector\", \"body > div > header > div > div.HamburgerMenu_menuExpanded__eR7Cl > ul > li:nth-child(2) > a\").click()\n",
    "sleep(1)\n",
    "for i in range(1,5):\n",
    "    driver.find_element(\"css selector\", f\"body > main > div.ProductsListSection_container__d5XJ3 > a:nth-child({i}) > div > div.ProductCard_imageWrapper__T_1BL > img\").click()\n",
    "    sleep(2)\n",
    "    try:\n",
    "        nombre = driver.find_element(\"css selector\", \"body > div > div > div > div > h1\").text\n",
    "        print(nombre)\n",
    "    except:\n",
    "        print(\"no lo encuentro\")\n",
    "    try:\n",
    "        desc = driver.find_element(\"css selector\", \"body > div > div > div > div > p.ProductDetail_productDiscount__ZOyR_\").text\n",
    "        print(desc)\n",
    "    except:\n",
    "        print(\"no hay descuento\")\n",
    "    driver.back()\n",
    "    sleep(2)"
   ]
  }
 ],
 "metadata": {
  "kernelspec": {
   "display_name": "base",
   "language": "python",
   "name": "python3"
  },
  "language_info": {
   "codemirror_mode": {
    "name": "ipython",
    "version": 3
   },
   "file_extension": ".py",
   "mimetype": "text/x-python",
   "name": "python",
   "nbconvert_exporter": "python",
   "pygments_lexer": "ipython3",
   "version": "3.11.11"
  }
 },
 "nbformat": 4,
 "nbformat_minor": 2
}
