{
 "cells": [
  {
   "cell_type": "code",
   "execution_count": 1,
   "metadata": {},
   "outputs": [],
   "source": [
    "import pandas as pd\n",
    "\n",
    "from bs4 import BeautifulSoup\n",
    "\n",
    "import requests\n",
    "\n",
    "\n",
    "from selenium import webdriver  # Selenium es una herramienta para automatizar la interacción con navegadores web.\n",
    "from webdriver_manager.chrome import ChromeDriverManager  # ChromeDriverManager gestiona la instalación del controlador de Chrome.\n",
    "from selenium.webdriver.common.keys import Keys  # Keys es útil para simular eventos de teclado en Selenium.\n",
    "from selenium.webdriver.support.ui import Select\n",
    "\n",
    "from time import sleep #para pausar la ejecución del programa por un número de segundos de espera\n",
    "\n",
    "#Configuración\n",
    "\n",
    "pd.set_option('display.max_columns', None) # Establece una opción de Pandas para mostrar todas \n",
    "                                            #las columnas de un DataFrame\n"
   ]
  },
  {
   "cell_type": "code",
   "execution_count": null,
   "metadata": {},
   "outputs": [
    {
     "name": "stdout",
     "output_type": "stream",
     "text": [
      "accedo a la pagina\n",
      "aceptando cookies\n",
      "entrando en género\n"
     ]
    }
   ],
   "source": [
    "driver = webdriver.Chrome()\n",
    "driver.maximize_window()\n",
    "#entro en la pagina\n",
    "driver.get(\"https://www.casadellibro.com/\")\n",
    "print(\"accedo a la pagina\")\n",
    "sleep(3)\n",
    "\n",
    "#aceptar cookies\n",
    "driver.find_element(\"css selector\",\"#onetrust-accept-btn-handler\").click()\n",
    "print(\"aceptando cookies\")\n",
    "#leep(3)\n",
    "\n",
    "#accediendo a una categoria\n",
    "driver.find_element(\"css selector\", \"#empathy-search\").send_keys(\"ficción\", Keys.ENTER)\n",
    "print(\"entrando en género\")\n",
    "sleep(4)\n",
    "\n",
    "#sacar libro\n",
    "#driver.find_element(\"css selector\", \"#main-scroll > div:nth-child(3) > div > ul > li:nth-child(1)\").click"
   ]
  }
 ],
 "metadata": {
  "kernelspec": {
   "display_name": "base",
   "language": "python",
   "name": "python3"
  },
  "language_info": {
   "codemirror_mode": {
    "name": "ipython",
    "version": 3
   },
   "file_extension": ".py",
   "mimetype": "text/x-python",
   "name": "python",
   "nbconvert_exporter": "python",
   "pygments_lexer": "ipython3",
   "version": "3.11.11"
  }
 },
 "nbformat": 4,
 "nbformat_minor": 2
}
